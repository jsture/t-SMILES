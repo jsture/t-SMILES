{
  "cells": [
    {
      "cell_type": "code",
      "execution_count": 2,
      "metadata": {},
      "outputs": [],
      "source": [
        "from t_smiles.DataSet.STDTokens import CTokens, STDTokens_Frag_File\n",
        "from t_smiles.MolUtils.RDKUtils.Frag.RDKFragUtil import Fragment_Alg\n",
        "\n",
        "from t_smiles.DataSet.Graph.CNJMolAssembler import CNJMolAssembler\n",
        "\n",
        "from t_smiles.DataSet.Graph.CNJMolUtil import CNJMolUtil\n",
        "from t_smiles.DataSet.Graph.CNJTMol import CNJMolUtils"
      ]
    },
    {
      "cell_type": "markdown",
      "metadata": {},
      "source": [
        "Test encoding algorithm"
      ]
    },
    {
      "cell_type": "code",
      "execution_count": 5,
      "metadata": {},
      "outputs": [
        {
          "name": "stdout",
          "output_type": "stream",
          "text": [
            "[smls is]: CCN(CC)C(=O)[C@H]1CN([C@@H]2CC3=CNC4=CC=CC(=C34)C2=C1)C\n",
            "[dec_alg is]: Vanilla\n",
            "[TSSA/TSDY]: CCN(CC)C(=O)[C@@H]1C=C2C3=C4C(=CNC4=CC=C3)C[C@H]2N(C)C1&&&\n",
            "[TSID     ]: CCN(CC)C(=O)[C@@H]1C=C2C3=C4C(=CNC4=CC=C3)C[C@H]2N(C)C1&&&\n",
            "[ChemUtils.get_clique_mol].exception[kekuleSmiles=True]: (\"Can't kekulize mol.  Unkekulized atoms: 10 11 12\",)\n",
            "[MolTree.init].Exception: (\"cannot access local variable 'new_mol' where it is not associated with a value\",)\n",
            "[MolTree.init].Exception-smiles: CCN(CC)C(=O)[C@H]1CN([C@@H]2CC3=CNC4=CC=CC(=C34)C2=C1)C\n",
            "[CNJMolUtils.encode_single].exception: (\"'CNJTMolTree' object has no attribute 'amt_bfs_smarts'\",)\n",
            "[dec_alg is]: JTVAE\n",
            "[TSSA/TSDY]: CC&&&\n",
            "[TSID     ]: CC&&&\n",
            "[dec_alg is]: BRICS\n",
            "[TSSA/TSDY]: CC&CN&N&CN&CC^CN&&C&CC&C1=C2C3=C4C(=CNC4=CC=C3)C[C@H]2NCC1^C=O^CN&&&&&\n",
            "[TSID     ]: CC&CN&N&CN&CC^CN&&C&CC&C1=C2C3=C4C(=CNC4=CC=C3)C[C@H]2NCC1^C=O^CN&&&&&\n",
            "[dec_alg is]: BRICS_Base\n",
            "[TSSA/TSDY]: CC&CN&N&CN&CC^CN&&C&C=O&&CC^CN1CCC=C2C3=C4C(=CNC4=CC=C3)C[C@H]21&&&\n",
            "[TSID     ]: CC&CN&N&CN&CC^CN&&C&C=O&&CC^CN1CCC=C2C3=C4C(=CNC4=CC=C3)C[C@H]21&&&\n",
            "[dec_alg is]: MMPA\n",
            "[TSSA/TSDY]: CC&CN&CCNC=O&CC&C1=C2C3=C4C(=CNC4=CC=C3)C[C@H]2NCC1&CN&&&\n",
            "[TSID     ]: CC&CN&CCNC=O&CC&C1=C2C3=C4C(=CNC4=CC=C3)C[C@H]2NCC1&CN&&&\n",
            "[dec_alg is]: Scaffold\n",
            "[TSSA/TSDY]: CCN(C=O)CC&CC&C1=C2C3=C4C(=CNC4=CC=C3)C[C@H]2NCC1&CN&&&\n",
            "[TSID     ]: CCN(C=O)CC&CC&C1=C2C3=C4C(=CNC4=CC=C3)C[C@H]2NCC1&CN&&&\n",
            "[dec_alg is]: BRICS_DY\n",
            "[TSSA/TSDY]: *CC&*N(*)*&*CC&&*C(*)=O^*[C@@H]1C=C2C3=C4C(=CNC4=CC=C3)C[C@H]2N(C)C1&&&\n",
            "[TSID     ]: [2*]CC&[1*]N([2*])[3*]&[3*]CC&&[1*]C([4*])=O^[4*][C@@H]1C=C2C3=C4C(=CNC4=CC=C3)C[C@H]2N(C)C1&&&\n",
            "[dec_alg is]: MMPA_DY\n",
            "[TSSA/TSDY]: *C&*C*&*N(CC)C(*)=O&*[C@@H]1C=C2C3=C4C(=CNC4=CC=C3)C[C@H]2N(*)C1&*C&&&\n",
            "[TSID     ]: [1*]C&[1*]C[2*]&[2*]N(CC)C([3*])=O&[3*][C@@H]1C=C2C3=C4C(=CNC4=CC=C3)C[C@H]2N([4*])C1&[4*]C&&&\n",
            "[dec_alg is]: Scaffold_DY\n",
            "[TSSA/TSDY]: *C(=O)N(CC)CC&*[C@@H]1C=C2C3=C4C(=CNC4=CC=C3)C[C@H]2N(*)C1&*C&&&\n",
            "[TSID     ]: [1*]C(=O)N(CC)CC&[1*][C@@H]1C=C2C3=C4C(=CNC4=CC=C3)C[C@H]2N([2*])C1&[2*]C&&&\n"
          ]
        }
      ],
      "source": [
        "# celecoxib\n",
        "smls = \"CC1=CC=C(C=C1)C2=CC(=NN2C3=CC=C(C=C3)S(=O)(=O)N)C(F)(F)F\"  # type: str\n",
        "# LSD\n",
        "smls = \"CCN(CC)C(=O)[C@H]1CN([C@@H]2CC3=CNC4=CC=CC(=C34)C2=C1)C\"  # type: str\n",
        "\n",
        "\n",
        "dec_algs = [\n",
        "    Fragment_Alg.Vanilla,\n",
        "    Fragment_Alg.JTVAE,\n",
        "    Fragment_Alg.BRICS,\n",
        "    Fragment_Alg.BRICS_Base,\n",
        "    Fragment_Alg.MMPA,\n",
        "    Fragment_Alg.Scaffold,\n",
        "    Fragment_Alg.BRICS_DY,\n",
        "    Fragment_Alg.MMPA_DY,\n",
        "    Fragment_Alg.Scaffold_DY,\n",
        "    # Fragment_Alg.RBrics_DY,\n",
        "]\n",
        "\n",
        "print(\"[smls is]:\", smls)\n",
        "\n",
        "ctoken = CTokens(STDTokens_Frag_File(None), max_length=256, invalid=True, onehot=False)\n",
        "\n",
        "\n",
        "for dec_alg in dec_algs:\n",
        "    combine_sml, combine_smt, amt_bfs_smarts = CNJMolUtils.encode_single(\n",
        "        smls, ctoken, dec_alg\n",
        "    )  # TODO: This returns a tuple of length 3, are the variables correctly assigned?\n",
        "\n",
        "    print(\"[dec_alg is]:\", dec_alg.name)\n",
        "    print(\"[TSSA/TSDY]:\", combine_sml)\n",
        "    print(\"[TSID     ]:\", combine_smt)"
      ]
    },
    {
      "cell_type": "markdown",
      "metadata": {},
      "source": [
        "Test decoding Algorithm"
      ]
    },
    {
      "cell_type": "code",
      "execution_count": 4,
      "metadata": {},
      "outputs": [
        {
          "name": "stdout",
          "output_type": "stream",
          "text": [
            "input:= *C&*C1=CC=C(*)C=C1&*C1=CC(*)=NN1*&*C(*)(F)F&*F^*C1=CC=C(*)C=C1&&*S(N)(=O)=O&&&\n",
            "bfs_ex_smiles ['*C', '&', '*C1=CC=C(*)C=C1', '&', '*C1=CC(*)=NN1*', '&', '*C(*)(F)F', '&', '*F', '*C1=CC=C(*)C=C1', '&', '&', '*S(N)(=O)=O', '&', '&', '&']\n",
            "[len of candidates]:6, select the first 3 as target\n",
            "dec_smile:= Cc1ccc(-c2cc(-c3ccc(S(N)(=O)=O)cc3)nn2C(F)(F)F)cc1\n"
          ]
        }
      ],
      "source": [
        "maxlen = 512\n",
        "vocab_file = r\"../RawData/Chembl/Test/Chembl_test.smi.[MMPA_DY][237]_token.voc.smi\"\n",
        "\n",
        "ctoken = CTokens(\n",
        "    STDTokens_Frag_File(vocab_file),\n",
        "    is_pad=True,\n",
        "    pad_symbol=\" \",\n",
        "    startend=True,\n",
        "    max_length=maxlen,\n",
        "    flip=False,\n",
        "    invalid=True,\n",
        "    onehot=False,\n",
        ")\n",
        "\n",
        "# SMILES\t = 'CC1=CC=C(C=C1)C2=CC(=NN2C3=CC=C(C=C3)S(=O)(=O)N)C(F)(F)F' #Celecoxib\n",
        "# bfs_ex = 'CC1=CC=C(C=C1)C2=CC(=NN2C3=CC=C(C=C3)S(=O)(=O)N)C(F)(F)F&&&'\t                        #TS_Vanilla\n",
        "\n",
        "# bfs_ex = 'CC&C1=CC=CC=C1&CC&C1=C[NH]N=C1&CC&C^CN^CF&C1=CC=CC=C1&&CF^CS&&CF^S&&&NS&&O=S&O=S&&'\t#TSSA-J\n",
        "# bfs_ex = 'CC1=CC=C(C2=CC(C(F)(F)F)=NN2C2=CC=C(S(N)(=O)=O)C=C2)C=C1&&&'\t                        #TSSA-B\n",
        "# bfs_ex = 'CC&C1=CC=CC=C1&CC&C1=C[NH]N=C1&CN&C1=CC=CC=C1^CC^CS&C&N[SH](=O)=O&CF&&&&FCF&&'\t    #TSSA-M\n",
        "# bfs_ex = 'CC&C1=CC=C(C2=CC=NN2C2=CC=CC=C2)C=C1&CC&FC(F)F^CS&&N[SH](=O)=O&&&'\t                #TSSA-S\n",
        "\n",
        "# bfs_ex = 'CC1=CC=C(C2=CC(C(F)(F)F)=NN2C2=CC=C(S(N)(=O)=O)C=C2)C=C1&&&'\t                        #TSDY-B\n",
        "bfs_ex = \"*C&*C1=CC=C(*)C=C1&*C1=CC(*)=NN1*&*C(*)(F)F&*F^*C1=CC=C(*)C=C1&&*S(N)(=O)=O&&&\"  # TSDY-M\n",
        "# bfs_ex = '*C&*C1=CC=C(C2=CC(*)=NN2C2=CC=C(*)C=C2)C=C1&*C(F)(F)F&&*S(N)(=O)=O&&'\t            #TSDY-S\n",
        "\n",
        "# bfs_ex = 'CC1=CC=C(C2=CC(C(F)(F)F)=NN2C2=CC=C(S(N)(=O)=O)C=C2)C=C1&&&'\t                                                        #TSID-B\n",
        "# bfs_ex = '[1*]C&[1*]C1=CC=C([2*])C=C1&[2*]C1=CC([3*])=NN1[5*]&[3*]C([4*])(F)F&[4*]F^[5*]C1=CC=C([6*])C=C1&&[6*]S(N)(=O)=O&&&'\t#TSID_M\n",
        "# bfs_ex = '[1*]C&[1*]C1=CC=C(C2=CC([2*])=NN2C2=CC=C([3*])C=C2)C=C1&[2*]C(F)(F)F&&[3*]S(N)(=O)=O&&'\t                            #TSID-S\n",
        "\n",
        "# asm_alg = 'CALG_TSSA'\n",
        "asm_alg = \"CALG_TSDY\"\n",
        "# asm_alg = 'CALG_TSID'\n",
        "\n",
        "bfs_ex = \"\".join(bfs_ex.strip().split(\" \"))\n",
        "print(\"input:=\", bfs_ex)\n",
        "\n",
        "\n",
        "bfs_ex_smiles = CNJMolUtil.split_ex_smiles(bfs_ex, delimiter=\"^\")\n",
        "print(\"bfs_ex_smiles\", bfs_ex_smiles)\n",
        "\n",
        "n_samples = 1\n",
        "for i in range(n_samples):\n",
        "    re_smils, bfs_ex_smiles_sub, new_vocs_sub, _ = CNJMolAssembler.decode_single(\n",
        "        bfs_ex, ctoken, asm_alg, n_samples=1, p_mean=None\n",
        "    )  # TODO: This returns tuple of length 4 not 3. Are the variables correctly assigned?\n",
        "    print(\"dec_smile:=\", re_smils)"
      ]
    },
    {
      "cell_type": "code",
      "execution_count": null,
      "metadata": {},
      "outputs": [],
      "source": []
    }
  ],
  "metadata": {
    "kernelspec": {
      "display_name": ".venv",
      "language": "python",
      "name": "python3"
    },
    "language_info": {
      "codemirror_mode": {
        "name": "ipython",
        "version": 3
      },
      "file_extension": ".py",
      "mimetype": "text/x-python",
      "name": "python",
      "nbconvert_exporter": "python",
      "pygments_lexer": "ipython3",
      "version": "3.12.3"
    }
  },
  "nbformat": 4,
  "nbformat_minor": 2
}
